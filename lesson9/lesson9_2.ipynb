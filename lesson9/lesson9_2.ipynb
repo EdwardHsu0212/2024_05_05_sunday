{
 "cells": [
  {
   "cell_type": "code",
   "execution_count": 2,
   "metadata": {},
   "outputs": [
    {
     "name": "stdout",
     "output_type": "stream",
     "text": [
      "<class '__main__.Person'>\n",
      "<class '__main__.Person'>\n"
     ]
    }
   ],
   "source": [
    "class Person():\n",
    "    pass\n",
    "\n",
    "p1:Person = Person()\n",
    "print(type(p1))\n",
    "\n",
    "p2:Person = Person()\n",
    "print(type(p2))"
   ]
  },
  {
   "cell_type": "code",
   "execution_count": 7,
   "metadata": {},
   "outputs": [],
   "source": [
    "#建立實體的attribute(屬性)\n",
    "class Person():\n",
    "    def __init__(self,n:str): #自訂的init\n",
    "        self.name = n\n",
    "\n",
    "    def __repr__(self) -> str:\n",
    "        return f'我的名字叫{self.name}'"
   ]
  },
  {
   "cell_type": "code",
   "execution_count": 8,
   "metadata": {},
   "outputs": [
    {
     "name": "stdout",
     "output_type": "stream",
     "text": [
      "許博閎\n",
      "我的名字叫許博閎\n",
      "edward\n",
      "我的名字叫edward\n"
     ]
    }
   ],
   "source": [
    "p1:Person = Person(\"許博閎\")\n",
    "print(p1.name)\n",
    "print(p1)\n",
    "\n",
    "p2:Person = Person(\"edward\")\n",
    "print(p2.name)\n",
    "print(p2)"
   ]
  },
  {
   "cell_type": "code",
   "execution_count": 10,
   "metadata": {},
   "outputs": [],
   "source": [
    "#建立實體的attribute(屬性)\n",
    "class Person():\n",
    "    def __init__(self,n:str): #自訂的init\n",
    "        self.name = n\n",
    "\n",
    "    def __repr__(self) -> str:\n",
    "        return f'我的名字叫{self.name}'\n",
    "\n",
    "#繼承\n",
    "class Student(Person):\n",
    "    pass"
   ]
  },
  {
   "cell_type": "code",
   "execution_count": 11,
   "metadata": {},
   "outputs": [
    {
     "name": "stdout",
     "output_type": "stream",
     "text": [
      "<class '__main__.Student'>\n",
      "許博閎\n",
      "我的名字叫許博閎\n",
      "<class '__main__.Student'>\n",
      "edward\n",
      "我的名字叫edward\n"
     ]
    }
   ],
   "source": [
    "s1 = Student(n=\"許博閎\")\n",
    "print(type(s1))\n",
    "print(s1.name)\n",
    "print(s1)\n",
    "\n",
    "s2 = Student(n=\"edward\")\n",
    "print(type(s2))\n",
    "print(s2.name)\n",
    "print(s2)"
   ]
  },
  {
   "cell_type": "code",
   "execution_count": 13,
   "metadata": {},
   "outputs": [],
   "source": [
    "#建立實體的attribute(屬性)\n",
    "class Person():\n",
    "    def __init__(self,n:str): #自訂的init\n",
    "        self.name = n\n",
    "\n",
    "    def __repr__(self) -> str:\n",
    "        return f'我的名字叫{self.name}'\n",
    "\n",
    "#繼承\n",
    "class Student(Person):\n",
    "    def __init__(self,n:str,ch:int,en:int,ma:int):\n",
    "        super().__init__(n) #執行父類別的init\n",
    "        self.chinese = ch\n",
    "        self.english = en\n",
    "        self.math = ma"
   ]
  },
  {
   "cell_type": "code",
   "execution_count": 14,
   "metadata": {},
   "outputs": [
    {
     "name": "stdout",
     "output_type": "stream",
     "text": [
      "<class '__main__.Student'>\n",
      "許博閎 67 96 65\n",
      "我的名字叫許博閎\n",
      "<class '__main__.Student'>\n",
      "edward 91 85 95\n",
      "我的名字叫edward\n"
     ]
    }
   ],
   "source": [
    "s1 = Student(n=\"許博閎\",ch=67,en=96,ma=65)\n",
    "print(type(s1))\n",
    "print(s1.name,s1.chinese,s1.english,s1.math)\n",
    "print(s1)\n",
    "\n",
    "s2 = Student(n=\"edward\",ch=91,en=85,ma=95)\n",
    "print(type(s2))\n",
    "print(s2.name,s2.chinese,s2.english,s2.math)\n",
    "print(s2)"
   ]
  }
 ],
 "metadata": {
  "kernelspec": {
   "display_name": "Python 3",
   "language": "python",
   "name": "python3"
  },
  "language_info": {
   "codemirror_mode": {
    "name": "ipython",
    "version": 3
   },
   "file_extension": ".py",
   "mimetype": "text/x-python",
   "name": "python",
   "nbconvert_exporter": "python",
   "pygments_lexer": "ipython3",
   "version": "3.10.14"
  }
 },
 "nbformat": 4,
 "nbformat_minor": 2
}
